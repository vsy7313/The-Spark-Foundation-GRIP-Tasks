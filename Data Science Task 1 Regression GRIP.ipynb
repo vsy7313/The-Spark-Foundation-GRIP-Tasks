{
 "cells": [
  {
   "cell_type": "markdown",
   "metadata": {},
   "source": [
    "# Simple Linear Regression\n",
    "\n",
    "In this regression task we will predict the percentage of marks that a student is expected to score based upon the number of hours they studied. This is a simple linear regression task as it involves just two variables.\n"
   ]
  },
  {
   "cell_type": "code",
   "execution_count": 49,
   "metadata": {},
   "outputs": [],
   "source": [
    "#Importing the packages required\n",
    "library(ggplot2)\n",
    "library(caTools)"
   ]
  },
  {
   "cell_type": "code",
   "execution_count": 50,
   "metadata": {},
   "outputs": [],
   "source": [
    "#Importing the dataset\n",
    "dataset=read.csv('student_scores.csv') "
   ]
  },
  {
   "cell_type": "code",
   "execution_count": 51,
   "metadata": {
    "scrolled": true
   },
   "outputs": [
    {
     "name": "stdout",
     "output_type": "stream",
     "text": [
      "   Hours Scores\n",
      "1    2.5     21\n",
      "2    5.1     47\n",
      "3    3.2     27\n",
      "4    8.5     75\n",
      "5    3.5     30\n",
      "6    1.5     20\n",
      "7    9.2     88\n",
      "8    5.5     60\n",
      "9    8.3     81\n",
      "10   2.7     25\n",
      "11   7.7     85\n",
      "12   5.9     62\n",
      "13   4.5     41\n",
      "14   3.3     42\n",
      "15   1.1     17\n",
      "16   8.9     95\n",
      "17   2.5     30\n",
      "18   1.9     24\n",
      "19   6.1     67\n",
      "20   7.4     69\n",
      "21   2.7     30\n",
      "22   4.8     54\n",
      "23   3.8     35\n",
      "24   6.9     76\n",
      "25   7.8     86\n"
     ]
    }
   ],
   "source": [
    "print(dataset)"
   ]
  },
  {
   "cell_type": "code",
   "execution_count": 52,
   "metadata": {},
   "outputs": [
    {
     "data": {
      "text/plain": [
       "     Hours           Scores     \n",
       " Min.   :1.100   Min.   :17.00  \n",
       " 1st Qu.:2.700   1st Qu.:30.00  \n",
       " Median :4.800   Median :47.00  \n",
       " Mean   :5.012   Mean   :51.48  \n",
       " 3rd Qu.:7.400   3rd Qu.:75.00  \n",
       " Max.   :9.200   Max.   :95.00  "
      ]
     },
     "metadata": {},
     "output_type": "display_data"
    }
   ],
   "source": [
    "#Exploratory Data Analysis\n",
    "summary(dataset)"
   ]
  },
  {
   "cell_type": "code",
   "execution_count": 53,
   "metadata": {},
   "outputs": [],
   "source": [
    "#Splitting the dataset into training set and test set\n",
    "set.seed(123)"
   ]
  },
  {
   "cell_type": "code",
   "execution_count": 54,
   "metadata": {},
   "outputs": [],
   "source": [
    "split=sample.split(dataset$Scores,SplitRatio=0.8)"
   ]
  },
  {
   "cell_type": "code",
   "execution_count": 55,
   "metadata": {},
   "outputs": [],
   "source": [
    "training_set=subset(dataset,split==TRUE)"
   ]
  },
  {
   "cell_type": "code",
   "execution_count": 56,
   "metadata": {},
   "outputs": [],
   "source": [
    "test_set=subset(dataset,split==FALSE)"
   ]
  },
  {
   "cell_type": "markdown",
   "metadata": {},
   "source": [
    "\n",
    "We have split our data into training and testing sets, and now is finally the time to train our algorithm."
   ]
  },
  {
   "cell_type": "code",
   "execution_count": 57,
   "metadata": {},
   "outputs": [],
   "source": [
    "#Fitting Simple Linear Regression to the Training Set\n",
    "regressor=lm(formula=Scores~Hours,data=training_set)"
   ]
  },
  {
   "cell_type": "code",
   "execution_count": 58,
   "metadata": {},
   "outputs": [
    {
     "data": {
      "text/plain": [
       "\n",
       "Call:\n",
       "lm(formula = Scores ~ Hours, data = training_set)\n",
       "\n",
       "Residuals:\n",
       "   Min     1Q Median     3Q    Max \n",
       "-8.489 -4.683  1.205  3.195  9.040 \n",
       "\n",
       "Coefficients:\n",
       "            Estimate Std. Error t value Pr(>|t|)    \n",
       "(Intercept)   4.2086     2.5239   1.667    0.113    \n",
       "Hours         9.3270     0.4913  18.986 2.36e-13 ***\n",
       "---\n",
       "Signif. codes:  0 '***' 0.001 '**' 0.01 '*' 0.05 '.' 0.1 ' ' 1\n",
       "\n",
       "Residual standard error: 5.263 on 18 degrees of freedom\n",
       "Multiple R-squared:  0.9524,\tAdjusted R-squared:  0.9498 \n",
       "F-statistic: 360.5 on 1 and 18 DF,  p-value: 2.361e-13\n"
      ]
     },
     "metadata": {},
     "output_type": "display_data"
    }
   ],
   "source": [
    "summary(regressor)"
   ]
  },
  {
   "cell_type": "code",
   "execution_count": 59,
   "metadata": {},
   "outputs": [],
   "source": [
    "#Predicting the Test set results\n",
    "y_pred=predict(regressor,newdata=test_set)"
   ]
  },
  {
   "cell_type": "code",
   "execution_count": 60,
   "metadata": {},
   "outputs": [
    {
     "data": {
      "text/html": [
       "<dl class=dl-horizontal>\n",
       "\t<dt>5</dt>\n",
       "\t\t<dd>36.853240625776</dd>\n",
       "\t<dt>11</dt>\n",
       "\t\t<dd>76.0268189719394</dd>\n",
       "\t<dt>16</dt>\n",
       "\t\t<dd>87.2192699279861</dd>\n",
       "\t<dt>20</dt>\n",
       "\t\t<dd>73.2287062329277</dd>\n",
       "\t<dt>24</dt>\n",
       "\t\t<dd>68.5651850012416</dd>\n",
       "</dl>\n"
      ],
      "text/latex": [
       "\\begin{description*}\n",
       "\\item[5] 36.853240625776\n",
       "\\item[11] 76.0268189719394\n",
       "\\item[16] 87.2192699279861\n",
       "\\item[20] 73.2287062329277\n",
       "\\item[24] 68.5651850012416\n",
       "\\end{description*}\n"
      ],
      "text/markdown": [
       "5\n",
       ":   36.85324062577611\n",
       ":   76.026818971939416\n",
       ":   87.219269927986120\n",
       ":   73.228706232927724\n",
       ":   68.5651850012416\n",
       "\n"
      ],
      "text/plain": [
       "       5       11       16       20       24 \n",
       "36.85324 76.02682 87.21927 73.22871 68.56519 "
      ]
     },
     "metadata": {},
     "output_type": "display_data"
    }
   ],
   "source": [
    "y_pred"
   ]
  },
  {
   "cell_type": "markdown",
   "metadata": {},
   "source": [
    "# Data Visualisation"
   ]
  },
  {
   "cell_type": "code",
   "execution_count": 61,
   "metadata": {},
   "outputs": [
    {
     "data": {
      "image/png": "[encoded data removed]",
      "text/plain": [
       "plot without title"
      ]
     },
     "metadata": {},
     "output_type": "display_data"
    }
   ],
   "source": [
    "#Visualizing the Training set results\n",
    "ggplot()+\n",
    "  geom_point(aes(x=training_set$Hours,y=training_set$Scores),\n",
    "             colour='red')+\n",
    "  geom_line(aes(x=training_set$Hours,y=predict(regressor,newdata=training_set)),\n",
    "            colour='blue')+\n",
    "  ggtitle(\"Hours studied vs Marks Scored(Training Set)\")+\n",
    "  xlab(\"Hours Studied\")+\n",
    "  ylab(\"Marks Scored\")"
   ]
  },
  {
   "cell_type": "code",
   "execution_count": 62,
   "metadata": {},
   "outputs": [
    {
     "data": {
      "image/png": "[encoded data removed]",
      "text/plain": [
       "plot without title"
      ]
     },
     "metadata": {},
     "output_type": "display_data"
    }
   ],
   "source": [
    "#Visualizing the Test set results\n",
    "ggplot()+\n",
    "  geom_point(aes(x=test_set$Hours,y=test_set$Scores),\n",
    "             colour='red')+\n",
    "  geom_line(aes(x=training_set$Hours,y=predict(regressor,newdata=training_set)),\n",
    "            colour='blue')+\n",
    "  ggtitle(\"Hours studied vs Marks Scored(Test Set)\")+\n",
    "  xlab(\"Hours Studied\")+\n",
    "  ylab(\"Marks Scored\")"
   ]
  },
  {
   "cell_type": "code",
   "execution_count": 63,
   "metadata": {},
   "outputs": [],
   "source": [
    "#Predicting scores\n",
    "model<-lm(Scores~Hours,data=dataset)"
   ]
  },
  {
   "cell_type": "code",
   "execution_count": 64,
   "metadata": {},
   "outputs": [
    {
     "data": {
      "text/plain": [
       "\n",
       "Call:\n",
       "lm(formula = Scores ~ Hours, data = dataset)\n",
       "\n",
       "Residuals:\n",
       "    Min      1Q  Median      3Q     Max \n",
       "-10.578  -5.340   1.839   4.593   7.265 \n",
       "\n",
       "Coefficients:\n",
       "            Estimate Std. Error t value Pr(>|t|)    \n",
       "(Intercept)   2.4837     2.5317   0.981    0.337    \n",
       "Hours         9.7758     0.4529  21.583   <2e-16 ***\n",
       "---\n",
       "Signif. codes:  0 '***' 0.001 '**' 0.01 '*' 0.05 '.' 0.1 ' ' 1\n",
       "\n",
       "Residual standard error: 5.603 on 23 degrees of freedom\n",
       "Multiple R-squared:  0.9529,\tAdjusted R-squared:  0.9509 \n",
       "F-statistic: 465.8 on 1 and 23 DF,  p-value: < 2.2e-16\n"
      ]
     },
     "metadata": {},
     "output_type": "display_data"
    }
   ],
   "source": [
    "summary(model)"
   ]
  },
  {
   "cell_type": "code",
   "execution_count": 65,
   "metadata": {},
   "outputs": [
    {
     "data": {
      "image/png": "[encoded data removed]",
      "text/plain": [
       "Plot with title \"\""
      ]
     },
     "metadata": {},
     "output_type": "display_data"
    },
    {
     "data": {
      "image/png": "[encoded data removed]",
      "text/plain": [
       "Plot with title \"\""
      ]
     },
     "metadata": {},
     "output_type": "display_data"
    },
    {
     "data": {
      "image/png": "[encoded data removed]",
      "text/plain": [
       "Plot with title \"\""
      ]
     },
     "metadata": {},
     "output_type": "display_data"
    },
    {
     "data": {
      "image/png": "[encoded data removed]",
      "text/plain": [
       "Plot with title \"\""
      ]
     },
     "metadata": {},
     "output_type": "display_data"
    }
   ],
   "source": [
    "#plotting hours vs score\n",
    "plot(model)\n"
   ]
  },
  {
   "cell_type": "code",
   "execution_count": 66,
   "metadata": {},
   "outputs": [
    {
     "data": {
      "text/html": [
       "<strong>1:</strong> 92.9098547701573"
      ],
      "text/latex": [
       "\\textbf{1:} 92.9098547701573"
      ],
      "text/markdown": [
       "**1:** 92.9098547701573"
      ],
      "text/plain": [
       "       1 \n",
       "92.90985 "
      ]
     },
     "metadata": {},
     "output_type": "display_data"
    }
   ],
   "source": [
    "#predicting the score of a student who studies for  9.25 hours\n",
    "predict(model,data.frame(Hours=9.25))"
   ]
  },
  {
   "cell_type": "code",
   "execution_count": 67,
   "metadata": {},
   "outputs": [],
   "source": [
    "pred<-predict(model,newdata=dataset)"
   ]
  },
  {
   "cell_type": "markdown",
   "metadata": {},
   "source": [
    "Data frame of Actual Values vs. Predicted Values"
   ]
  },
  {
   "cell_type": "code",
   "execution_count": 68,
   "metadata": {},
   "outputs": [
    {
     "data": {
      "text/html": [
       "<table>\n",
       "<thead><tr><th scope=col>dataset.Scores</th><th scope=col>pred</th></tr></thead>\n",
       "<tbody>\n",
       "\t<tr><td>21      </td><td>26.92318</td></tr>\n",
       "\t<tr><td>47      </td><td>52.34027</td></tr>\n",
       "\t<tr><td>27      </td><td>33.76624</td></tr>\n",
       "\t<tr><td>75      </td><td>85.57800</td></tr>\n",
       "\t<tr><td>30      </td><td>36.69899</td></tr>\n",
       "\t<tr><td>20      </td><td>17.14738</td></tr>\n",
       "\t<tr><td>88      </td><td>92.42106</td></tr>\n",
       "\t<tr><td>60      </td><td>56.25059</td></tr>\n",
       "\t<tr><td>81      </td><td>83.62284</td></tr>\n",
       "\t<tr><td>25      </td><td>28.87834</td></tr>\n",
       "\t<tr><td>85      </td><td>77.75736</td></tr>\n",
       "\t<tr><td>62      </td><td>60.16091</td></tr>\n",
       "\t<tr><td>41      </td><td>46.47479</td></tr>\n",
       "\t<tr><td>42      </td><td>34.74382</td></tr>\n",
       "\t<tr><td>17      </td><td>13.23706</td></tr>\n",
       "\t<tr><td>95      </td><td>89.48832</td></tr>\n",
       "\t<tr><td>30      </td><td>26.92318</td></tr>\n",
       "\t<tr><td>24      </td><td>21.05770</td></tr>\n",
       "\t<tr><td>67      </td><td>62.11607</td></tr>\n",
       "\t<tr><td>69      </td><td>74.82462</td></tr>\n",
       "\t<tr><td>30      </td><td>28.87834</td></tr>\n",
       "\t<tr><td>54      </td><td>49.40753</td></tr>\n",
       "\t<tr><td>35      </td><td>39.63173</td></tr>\n",
       "\t<tr><td>76      </td><td>69.93672</td></tr>\n",
       "\t<tr><td>86      </td><td>78.73494</td></tr>\n",
       "</tbody>\n",
       "</table>\n"
      ],
      "text/latex": [
       "\\begin{tabular}{r|ll}\n",
       " dataset.Scores & pred\\\\\n",
       "\\hline\n",
       "\t 21       & 26.92318\\\\\n",
       "\t 47       & 52.34027\\\\\n",
       "\t 27       & 33.76624\\\\\n",
       "\t 75       & 85.57800\\\\\n",
       "\t 30       & 36.69899\\\\\n",
       "\t 20       & 17.14738\\\\\n",
       "\t 88       & 92.42106\\\\\n",
       "\t 60       & 56.25059\\\\\n",
       "\t 81       & 83.62284\\\\\n",
       "\t 25       & 28.87834\\\\\n",
       "\t 85       & 77.75736\\\\\n",
       "\t 62       & 60.16091\\\\\n",
       "\t 41       & 46.47479\\\\\n",
       "\t 42       & 34.74382\\\\\n",
       "\t 17       & 13.23706\\\\\n",
       "\t 95       & 89.48832\\\\\n",
       "\t 30       & 26.92318\\\\\n",
       "\t 24       & 21.05770\\\\\n",
       "\t 67       & 62.11607\\\\\n",
       "\t 69       & 74.82462\\\\\n",
       "\t 30       & 28.87834\\\\\n",
       "\t 54       & 49.40753\\\\\n",
       "\t 35       & 39.63173\\\\\n",
       "\t 76       & 69.93672\\\\\n",
       "\t 86       & 78.73494\\\\\n",
       "\\end{tabular}\n"
      ],
      "text/markdown": [
       "\n",
       "| dataset.Scores | pred |\n",
       "|---|---|\n",
       "| 21       | 26.92318 |\n",
       "| 47       | 52.34027 |\n",
       "| 27       | 33.76624 |\n",
       "| 75       | 85.57800 |\n",
       "| 30       | 36.69899 |\n",
       "| 20       | 17.14738 |\n",
       "| 88       | 92.42106 |\n",
       "| 60       | 56.25059 |\n",
       "| 81       | 83.62284 |\n",
       "| 25       | 28.87834 |\n",
       "| 85       | 77.75736 |\n",
       "| 62       | 60.16091 |\n",
       "| 41       | 46.47479 |\n",
       "| 42       | 34.74382 |\n",
       "| 17       | 13.23706 |\n",
       "| 95       | 89.48832 |\n",
       "| 30       | 26.92318 |\n",
       "| 24       | 21.05770 |\n",
       "| 67       | 62.11607 |\n",
       "| 69       | 74.82462 |\n",
       "| 30       | 28.87834 |\n",
       "| 54       | 49.40753 |\n",
       "| 35       | 39.63173 |\n",
       "| 76       | 69.93672 |\n",
       "| 86       | 78.73494 |\n",
       "\n"
      ],
      "text/plain": [
       "   dataset.Scores pred    \n",
       "1  21             26.92318\n",
       "2  47             52.34027\n",
       "3  27             33.76624\n",
       "4  75             85.57800\n",
       "5  30             36.69899\n",
       "6  20             17.14738\n",
       "7  88             92.42106\n",
       "8  60             56.25059\n",
       "9  81             83.62284\n",
       "10 25             28.87834\n",
       "11 85             77.75736\n",
       "12 62             60.16091\n",
       "13 41             46.47479\n",
       "14 42             34.74382\n",
       "15 17             13.23706\n",
       "16 95             89.48832\n",
       "17 30             26.92318\n",
       "18 24             21.05770\n",
       "19 67             62.11607\n",
       "20 69             74.82462\n",
       "21 30             28.87834\n",
       "22 54             49.40753\n",
       "23 35             39.63173\n",
       "24 76             69.93672\n",
       "25 86             78.73494"
      ]
     },
     "metadata": {},
     "output_type": "display_data"
    }
   ],
   "source": [
    "df=data.frame(dataset$Scores,pred)\n",
    "df"
   ]
  },
  {
   "cell_type": "markdown",
   "metadata": {},
   "source": [
    "# Calculating Regression Model Accuracy\n",
    "Mean  Square Error,Mean Absolute Error, Root Mean Square Error and R-Square"
   ]
  },
  {
   "cell_type": "code",
   "execution_count": 69,
   "metadata": {},
   "outputs": [
    {
     "data": {
      "text/html": [
       "<dl class=dl-horizontal>\n",
       "\t<dt>1</dt>\n",
       "\t\t<dd>5.92318188234189</dd>\n",
       "\t<dt>2</dt>\n",
       "\t\t<dd>5.3402706983893</dd>\n",
       "\t<dt>3</dt>\n",
       "\t\t<dd>6.76624425589311</dd>\n",
       "\t<dt>4</dt>\n",
       "\t\t<dd>10.5780022270667</dd>\n",
       "\t<dt>5</dt>\n",
       "\t\t<dd>6.69898527312935</dd>\n",
       "\t<dt>6</dt>\n",
       "\t\t<dd>-2.85262150844558</dd>\n",
       "\t<dt>7</dt>\n",
       "\t\t<dd>4.42106460061792</dd>\n",
       "\t<dt>8</dt>\n",
       "\t\t<dd>-3.74940794529571</dd>\n",
       "\t<dt>9</dt>\n",
       "\t\t<dd>2.62284154890922</dd>\n",
       "\t<dt>10</dt>\n",
       "\t\t<dd>3.87834256049938</dd>\n",
       "\t<dt>11</dt>\n",
       "\t\t<dd>-7.24264048556327</dd>\n",
       "\t<dt>12</dt>\n",
       "\t\t<dd>-1.83908658898071</dd>\n",
       "\t<dt>13</dt>\n",
       "\t\t<dd>5.47478866391683</dd>\n",
       "\t<dt>14</dt>\n",
       "\t\t<dd>-7.25617540502814</dd>\n",
       "\t<dt>15</dt>\n",
       "\t\t<dd>-3.76294286476057</dd>\n",
       "\t<dt>16</dt>\n",
       "\t\t<dd>-5.5116764166183</dd>\n",
       "\t<dt>17</dt>\n",
       "\t\t<dd>-3.07681811765811</dd>\n",
       "\t<dt>18</dt>\n",
       "\t\t<dd>-2.9423001521306</dd>\n",
       "\t<dt>19</dt>\n",
       "\t\t<dd>-4.88392591082323</dd>\n",
       "\t<dt>20</dt>\n",
       "\t\t<dd>5.82461849720049</dd>\n",
       "\t<dt>21</dt>\n",
       "\t\t<dd>-1.12165743950062</dd>\n",
       "\t<dt>22</dt>\n",
       "\t\t<dd>-4.59247031884694</dd>\n",
       "\t<dt>23</dt>\n",
       "\t\t<dd>4.63172629036559</dd>\n",
       "\t<dt>24</dt>\n",
       "\t\t<dd>-6.06328319819325</dd>\n",
       "\t<dt>25</dt>\n",
       "\t\t<dd>-7.26506014648453</dd>\n",
       "</dl>\n"
      ],
      "text/latex": [
       "\\begin{description*}\n",
       "\\item[1] 5.92318188234189\n",
       "\\item[2] 5.3402706983893\n",
       "\\item[3] 6.76624425589311\n",
       "\\item[4] 10.5780022270667\n",
       "\\item[5] 6.69898527312935\n",
       "\\item[6] -2.85262150844558\n",
       "\\item[7] 4.42106460061792\n",
       "\\item[8] -3.74940794529571\n",
       "\\item[9] 2.62284154890922\n",
       "\\item[10] 3.87834256049938\n",
       "\\item[11] -7.24264048556327\n",
       "\\item[12] -1.83908658898071\n",
       "\\item[13] 5.47478866391683\n",
       "\\item[14] -7.25617540502814\n",
       "\\item[15] -3.76294286476057\n",
       "\\item[16] -5.5116764166183\n",
       "\\item[17] -3.07681811765811\n",
       "\\item[18] -2.9423001521306\n",
       "\\item[19] -4.88392591082323\n",
       "\\item[20] 5.82461849720049\n",
       "\\item[21] -1.12165743950062\n",
       "\\item[22] -4.59247031884694\n",
       "\\item[23] 4.63172629036559\n",
       "\\item[24] -6.06328319819325\n",
       "\\item[25] -7.26506014648453\n",
       "\\end{description*}\n"
      ],
      "text/markdown": [
       "1\n",
       ":   5.923181882341892\n",
       ":   5.34027069838933\n",
       ":   6.766244255893114\n",
       ":   10.57800222706675\n",
       ":   6.698985273129356\n",
       ":   -2.852621508445587\n",
       ":   4.421064600617928\n",
       ":   -3.749407945295719\n",
       ":   2.6228415489092210\n",
       ":   3.8783425604993811\n",
       ":   -7.2426404855632712\n",
       ":   -1.8390865889807113\n",
       ":   5.4747886639168314\n",
       ":   -7.2561754050281415\n",
       ":   -3.7629428647605716\n",
       ":   -5.511676416618317\n",
       ":   -3.0768181176581118\n",
       ":   -2.942300152130619\n",
       ":   -4.8839259108232320\n",
       ":   5.8246184972004921\n",
       ":   -1.1216574395006222\n",
       ":   -4.5924703188469423\n",
       ":   4.6317262903655924\n",
       ":   -6.0632831981932525\n",
       ":   -7.26506014648453\n",
       "\n"
      ],
      "text/plain": [
       "        1         2         3         4         5         6         7         8 \n",
       " 5.923182  5.340271  6.766244 10.578002  6.698985 -2.852622  4.421065 -3.749408 \n",
       "        9        10        11        12        13        14        15        16 \n",
       " 2.622842  3.878343 -7.242640 -1.839087  5.474789 -7.256175 -3.762943 -5.511676 \n",
       "       17        18        19        20        21        22        23        24 \n",
       "-3.076818 -2.942300 -4.883926  5.824618 -1.121657 -4.592470  4.631726 -6.063283 \n",
       "       25 \n",
       "-7.265060 "
      ]
     },
     "metadata": {},
     "output_type": "display_data"
    }
   ],
   "source": [
    "#error\n",
    "error<-pred-dataset$Scores\n",
    "error"
   ]
  },
  {
   "cell_type": "code",
   "execution_count": 70,
   "metadata": {},
   "outputs": [
    {
     "data": {
      "text/html": [
       "28.8827305092455"
      ],
      "text/latex": [
       "28.8827305092455"
      ],
      "text/markdown": [
       "28.8827305092455"
      ],
      "text/plain": [
       "[1] 28.88273"
      ]
     },
     "metadata": {},
     "output_type": "display_data"
    }
   ],
   "source": [
    "#Mean  Square Error\n",
    "mse<-mean((error)^2)\n",
    "mse"
   ]
  },
  {
   "cell_type": "code",
   "execution_count": 71,
   "metadata": {},
   "outputs": [
    {
     "data": {
      "text/html": [
       "4.97280531986637"
      ],
      "text/latex": [
       "4.97280531986637"
      ],
      "text/markdown": [
       "4.97280531986637"
      ],
      "text/plain": [
       "[1] 4.972805"
      ]
     },
     "metadata": {},
     "output_type": "display_data"
    }
   ],
   "source": [
    "#Mean Absolute Error\n",
    "mae<-mean(abs(error))\n",
    "mae"
   ]
  },
  {
   "cell_type": "code",
   "execution_count": 72,
   "metadata": {},
   "outputs": [
    {
     "data": {
      "text/html": [
       "5.37426557859262"
      ],
      "text/latex": [
       "5.37426557859262"
      ],
      "text/markdown": [
       "5.37426557859262"
      ],
      "text/plain": [
       "[1] 5.374266"
      ]
     },
     "metadata": {},
     "output_type": "display_data"
    }
   ],
   "source": [
    "#Residual Mean  Square Error\n",
    "rmse<-sqrt(mse)\n",
    "rmse"
   ]
  },
  {
   "cell_type": "code",
   "execution_count": 73,
   "metadata": {},
   "outputs": [
    {
     "data": {
      "text/html": [
       "0.952948196904836"
      ],
      "text/latex": [
       "0.952948196904836"
      ],
      "text/markdown": [
       "0.952948196904836"
      ],
      "text/plain": [
       "[1] 0.9529482"
      ]
     },
     "metadata": {},
     "output_type": "display_data"
    }
   ],
   "source": [
    "#R-square\n",
    "R2 = 1-(sum((error)^2)/sum((dataset$Scores-mean(dataset$Scores))^2))\n",
    "R2"
   ]
  },
  {
   "cell_type": "code",
   "execution_count": null,
   "metadata": {},
   "outputs": [],
   "source": []
  }
 ],
 "metadata": {
  "kernelspec": {
   "display_name": "R",
   "language": "R",
   "name": "ir"
  },
  "language_info": {
   "codemirror_mode": "r",
   "file_extension": ".r",
   "mimetype": "text/x-r-source",
   "name": "R",
   "pygments_lexer": "r",
   "version": "3.6.1"
  }
 },
 "nbformat": 4,
 "nbformat_minor": 4
}
